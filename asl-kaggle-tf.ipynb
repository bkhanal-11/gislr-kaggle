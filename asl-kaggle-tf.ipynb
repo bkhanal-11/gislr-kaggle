{
 "cells": [
  {
   "cell_type": "code",
   "execution_count": 1,
   "id": "f27e374a",
   "metadata": {
    "_cell_guid": "b1076dfc-b9ad-4769-8c92-a6c4dae69d19",
    "_uuid": "8f2839f25d086af736a60e9eeb907d3b93b6e0e5",
    "execution": {
     "iopub.execute_input": "2023-04-30T03:41:19.856625Z",
     "iopub.status.busy": "2023-04-30T03:41:19.856209Z",
     "iopub.status.idle": "2023-04-30T03:41:35.319470Z",
     "shell.execute_reply": "2023-04-30T03:41:35.318202Z"
    },
    "papermill": {
     "duration": 15.474463,
     "end_time": "2023-04-30T03:41:35.322157",
     "exception": false,
     "start_time": "2023-04-30T03:41:19.847694",
     "status": "completed"
    },
    "tags": []
   },
   "outputs": [],
   "source": [
    "import pandas as pd\n",
    "\n",
    "import os\n",
    "\n",
    "import json\n",
    "from tqdm import tqdm\n",
    "import numpy as np\n",
    "import itertools\n",
    "\n",
    "import tensorflow as tf\n",
    "import tensorflow.keras.layers as layers\n",
    "\n",
    "from sklearn.model_selection import train_test_split\n",
    "\n",
    "import matplotlib.pyplot as plt"
   ]
  },
  {
   "cell_type": "code",
   "execution_count": 2,
   "id": "9a48937f",
   "metadata": {
    "execution": {
     "iopub.execute_input": "2023-04-30T03:41:35.336359Z",
     "iopub.status.busy": "2023-04-30T03:41:35.335746Z",
     "iopub.status.idle": "2023-04-30T03:41:35.833731Z",
     "shell.execute_reply": "2023-04-30T03:41:35.832621Z"
    },
    "papermill": {
     "duration": 0.507841,
     "end_time": "2023-04-30T03:41:35.836567",
     "exception": false,
     "start_time": "2023-04-30T03:41:35.328726",
     "status": "completed"
    },
    "tags": []
   },
   "outputs": [
    {
     "name": "stdout",
     "output_type": "stream",
     "text": [
      "Name: /physical_device:GPU:0   Type: GPU\n",
      "Name: /physical_device:GPU:1   Type: GPU\n"
     ]
    }
   ],
   "source": [
    "gpus = tf.config.experimental.list_physical_devices('GPU')\n",
    "for gpu in gpus:\n",
    "    print(\"Name:\", gpu.name, \"  Type:\", gpu.device_type)"
   ]
  },
  {
   "cell_type": "code",
   "execution_count": 3,
   "id": "8d8552aa",
   "metadata": {
    "execution": {
     "iopub.execute_input": "2023-04-30T03:41:35.851070Z",
     "iopub.status.busy": "2023-04-30T03:41:35.850227Z",
     "iopub.status.idle": "2023-04-30T03:41:35.856011Z",
     "shell.execute_reply": "2023-04-30T03:41:35.855045Z"
    },
    "papermill": {
     "duration": 0.015225,
     "end_time": "2023-04-30T03:41:35.858255",
     "exception": false,
     "start_time": "2023-04-30T03:41:35.843030",
     "status": "completed"
    },
    "tags": []
   },
   "outputs": [],
   "source": [
    "gpus = tf.config.experimental.list_physical_devices('GPU')\n",
    "\n",
    "if gpus:\n",
    "  try:\n",
    "    tf.config.experimental.set_visible_devices(gpus, 'GPU')\n",
    "  except RuntimeError as e:\n",
    "    print(e)"
   ]
  },
  {
   "cell_type": "code",
   "execution_count": 4,
   "id": "35b4dcd7",
   "metadata": {
    "execution": {
     "iopub.execute_input": "2023-04-30T03:41:35.872134Z",
     "iopub.status.busy": "2023-04-30T03:41:35.871252Z",
     "iopub.status.idle": "2023-04-30T03:41:35.878158Z",
     "shell.execute_reply": "2023-04-30T03:41:35.877206Z"
    },
    "papermill": {
     "duration": 0.01604,
     "end_time": "2023-04-30T03:41:35.880259",
     "exception": false,
     "start_time": "2023-04-30T03:41:35.864219",
     "status": "completed"
    },
    "tags": []
   },
   "outputs": [],
   "source": [
    "class CONFIG:\n",
    "    ROOT_DIR = '/kaggle/input/asl-signs'\n",
    "    TRAIN_DATA = '/kaggle/input/asl-signs/train.csv'\n",
    "    EXTENDED_TRAIN_DATA = '/kaggle/input/gislr-extended-train-dataframe/extended_train.csv'\n",
    "    TRAIN_DIR = '/kaggle/input/asl-signs/train_landmark_files'\n",
    "    PREDICTION_INDEX_MAP = '/kaggle/input/asl-signs/sign_to_prediction_index_map.json'\n",
    "    \n",
    "    TOTAL_DATA = 94477\n",
    "    LANDMARKS_PER_FRAME = 543\n",
    "    AVERAGE_FRAME = 37\n",
    "    SEED = 11\n",
    "    \n",
    "    CONTOURS = [0, 9, 11, 13, 14, 17, 117, 118, 119, 199, 346, 347, 348]\n",
    "\n",
    "    LANDMARKS_IDX = {\"face\" : CONTOURS,\n",
    "                     \"left_hand\" : list(range(468, 489)),\n",
    "                     \"upper_body\" : list(range(489, 511)),\n",
    "                     \"right_hand\" : list(range(522, 543))}"
   ]
  },
  {
   "cell_type": "code",
   "execution_count": 5,
   "id": "21b134ec",
   "metadata": {
    "execution": {
     "iopub.execute_input": "2023-04-30T03:41:35.893806Z",
     "iopub.status.busy": "2023-04-30T03:41:35.893061Z",
     "iopub.status.idle": "2023-04-30T03:41:35.899793Z",
     "shell.execute_reply": "2023-04-30T03:41:35.898894Z"
    },
    "papermill": {
     "duration": 0.015716,
     "end_time": "2023-04-30T03:41:35.901909",
     "exception": false,
     "start_time": "2023-04-30T03:41:35.886193",
     "status": "completed"
    },
    "tags": []
   },
   "outputs": [],
   "source": [
    "def read_json_file(json_path):\n",
    "    with open(json_path, \"rb\") as f:\n",
    "        json_data = json.load(f)\n",
    "    \n",
    "    return json_data\n",
    "\n",
    "def load_landmarks(pq_path):\n",
    "    data_columns = ['x', 'y', 'z']\n",
    "    \n",
    "    data = pd.read_parquet(pq_path, columns=data_columns)\n",
    "    n_frames = int(len(data) / CONFIG.LANDMARKS_PER_FRAME)\n",
    "    data = data.values.reshape(n_frames, CONFIG.LANDMARKS_PER_FRAME, len(data_columns))\n",
    "    \n",
    "    return data.astype(np.float32)"
   ]
  },
  {
   "cell_type": "code",
   "execution_count": 6,
   "id": "bc52e2eb",
   "metadata": {
    "execution": {
     "iopub.execute_input": "2023-04-30T03:41:35.915702Z",
     "iopub.status.busy": "2023-04-30T03:41:35.914832Z",
     "iopub.status.idle": "2023-04-30T03:41:36.583145Z",
     "shell.execute_reply": "2023-04-30T03:41:36.582029Z"
    },
    "papermill": {
     "duration": 0.677664,
     "end_time": "2023-04-30T03:41:36.585752",
     "exception": false,
     "start_time": "2023-04-30T03:41:35.908088",
     "status": "completed"
    },
    "tags": []
   },
   "outputs": [],
   "source": [
    "train_df = pd.read_csv(CONFIG.EXTENDED_TRAIN_DATA)\n",
    "\n",
    "label_map = read_json_file(CONFIG.PREDICTION_INDEX_MAP)\n",
    "\n",
    "train_df['label'] = train_df['sign'].map(label_map)"
   ]
  },
  {
   "cell_type": "code",
   "execution_count": 7,
   "id": "11e47716",
   "metadata": {
    "execution": {
     "iopub.execute_input": "2023-04-30T03:41:36.601222Z",
     "iopub.status.busy": "2023-04-30T03:41:36.600904Z",
     "iopub.status.idle": "2023-04-30T03:41:36.631368Z",
     "shell.execute_reply": "2023-04-30T03:41:36.630144Z"
    },
    "papermill": {
     "duration": 0.040892,
     "end_time": "2023-04-30T03:41:36.634475",
     "exception": false,
     "start_time": "2023-04-30T03:41:36.593583",
     "status": "completed"
    },
    "tags": []
   },
   "outputs": [
    {
     "data": {
      "text/html": [
       "<div>\n",
       "<style scoped>\n",
       "    .dataframe tbody tr th:only-of-type {\n",
       "        vertical-align: middle;\n",
       "    }\n",
       "\n",
       "    .dataframe tbody tr th {\n",
       "        vertical-align: top;\n",
       "    }\n",
       "\n",
       "    .dataframe thead th {\n",
       "        text-align: right;\n",
       "    }\n",
       "</style>\n",
       "<table border=\"1\" class=\"dataframe\">\n",
       "  <thead>\n",
       "    <tr style=\"text-align: right;\">\n",
       "      <th></th>\n",
       "      <th>path</th>\n",
       "      <th>participant_id</th>\n",
       "      <th>sequence_id</th>\n",
       "      <th>sign</th>\n",
       "      <th>start_frame</th>\n",
       "      <th>end_frame</th>\n",
       "      <th>total_frames</th>\n",
       "      <th>face_count</th>\n",
       "      <th>face_nan_count</th>\n",
       "      <th>pose_count</th>\n",
       "      <th>...</th>\n",
       "      <th>left_hand_nan_count</th>\n",
       "      <th>right_hand_count</th>\n",
       "      <th>right_hand_nan_count</th>\n",
       "      <th>x_min</th>\n",
       "      <th>x_max</th>\n",
       "      <th>y_min</th>\n",
       "      <th>y_max</th>\n",
       "      <th>z_min</th>\n",
       "      <th>z_max</th>\n",
       "      <th>label</th>\n",
       "    </tr>\n",
       "  </thead>\n",
       "  <tbody>\n",
       "    <tr>\n",
       "      <th>0</th>\n",
       "      <td>/kaggle/input/asl-signs/train_landmark_files/2...</td>\n",
       "      <td>26734</td>\n",
       "      <td>1000035562</td>\n",
       "      <td>blow</td>\n",
       "      <td>20</td>\n",
       "      <td>42</td>\n",
       "      <td>23</td>\n",
       "      <td>10764</td>\n",
       "      <td>0</td>\n",
       "      <td>759</td>\n",
       "      <td>...</td>\n",
       "      <td>483</td>\n",
       "      <td>483</td>\n",
       "      <td>252</td>\n",
       "      <td>-0.031811</td>\n",
       "      <td>1.294350</td>\n",
       "      <td>-2.147826</td>\n",
       "      <td>-0.224151</td>\n",
       "      <td>-2.782624</td>\n",
       "      <td>1.910815</td>\n",
       "      <td>25</td>\n",
       "    </tr>\n",
       "    <tr>\n",
       "      <th>1</th>\n",
       "      <td>/kaggle/input/asl-signs/train_landmark_files/2...</td>\n",
       "      <td>28656</td>\n",
       "      <td>1000106739</td>\n",
       "      <td>wait</td>\n",
       "      <td>29</td>\n",
       "      <td>39</td>\n",
       "      <td>11</td>\n",
       "      <td>5148</td>\n",
       "      <td>0</td>\n",
       "      <td>363</td>\n",
       "      <td>...</td>\n",
       "      <td>231</td>\n",
       "      <td>231</td>\n",
       "      <td>189</td>\n",
       "      <td>-0.017062</td>\n",
       "      <td>1.015931</td>\n",
       "      <td>-2.222732</td>\n",
       "      <td>-0.329273</td>\n",
       "      <td>-2.543970</td>\n",
       "      <td>1.627621</td>\n",
       "      <td>232</td>\n",
       "    </tr>\n",
       "    <tr>\n",
       "      <th>2</th>\n",
       "      <td>/kaggle/input/asl-signs/train_landmark_files/1...</td>\n",
       "      <td>16069</td>\n",
       "      <td>100015657</td>\n",
       "      <td>cloud</td>\n",
       "      <td>103</td>\n",
       "      <td>207</td>\n",
       "      <td>105</td>\n",
       "      <td>49140</td>\n",
       "      <td>0</td>\n",
       "      <td>3465</td>\n",
       "      <td>...</td>\n",
       "      <td>1617</td>\n",
       "      <td>2205</td>\n",
       "      <td>2205</td>\n",
       "      <td>-0.042923</td>\n",
       "      <td>1.197836</td>\n",
       "      <td>-2.591290</td>\n",
       "      <td>-0.248094</td>\n",
       "      <td>-2.838325</td>\n",
       "      <td>1.587503</td>\n",
       "      <td>48</td>\n",
       "    </tr>\n",
       "    <tr>\n",
       "      <th>3</th>\n",
       "      <td>/kaggle/input/asl-signs/train_landmark_files/2...</td>\n",
       "      <td>25571</td>\n",
       "      <td>1000210073</td>\n",
       "      <td>bird</td>\n",
       "      <td>17</td>\n",
       "      <td>28</td>\n",
       "      <td>12</td>\n",
       "      <td>5616</td>\n",
       "      <td>0</td>\n",
       "      <td>396</td>\n",
       "      <td>...</td>\n",
       "      <td>252</td>\n",
       "      <td>252</td>\n",
       "      <td>0</td>\n",
       "      <td>-0.129268</td>\n",
       "      <td>1.156573</td>\n",
       "      <td>-2.294936</td>\n",
       "      <td>-0.310272</td>\n",
       "      <td>-3.018237</td>\n",
       "      <td>2.196296</td>\n",
       "      <td>23</td>\n",
       "    </tr>\n",
       "    <tr>\n",
       "      <th>4</th>\n",
       "      <td>/kaggle/input/asl-signs/train_landmark_files/6...</td>\n",
       "      <td>62590</td>\n",
       "      <td>1000240708</td>\n",
       "      <td>owie</td>\n",
       "      <td>22</td>\n",
       "      <td>39</td>\n",
       "      <td>18</td>\n",
       "      <td>8424</td>\n",
       "      <td>0</td>\n",
       "      <td>594</td>\n",
       "      <td>...</td>\n",
       "      <td>378</td>\n",
       "      <td>378</td>\n",
       "      <td>0</td>\n",
       "      <td>0.072425</td>\n",
       "      <td>1.165405</td>\n",
       "      <td>-2.264609</td>\n",
       "      <td>-0.405282</td>\n",
       "      <td>-2.970331</td>\n",
       "      <td>1.360011</td>\n",
       "      <td>164</td>\n",
       "    </tr>\n",
       "  </tbody>\n",
       "</table>\n",
       "<p>5 rows × 22 columns</p>\n",
       "</div>"
      ],
      "text/plain": [
       "                                                path  participant_id  \\\n",
       "0  /kaggle/input/asl-signs/train_landmark_files/2...           26734   \n",
       "1  /kaggle/input/asl-signs/train_landmark_files/2...           28656   \n",
       "2  /kaggle/input/asl-signs/train_landmark_files/1...           16069   \n",
       "3  /kaggle/input/asl-signs/train_landmark_files/2...           25571   \n",
       "4  /kaggle/input/asl-signs/train_landmark_files/6...           62590   \n",
       "\n",
       "   sequence_id   sign  start_frame  end_frame  total_frames  face_count  \\\n",
       "0   1000035562   blow           20         42            23       10764   \n",
       "1   1000106739   wait           29         39            11        5148   \n",
       "2    100015657  cloud          103        207           105       49140   \n",
       "3   1000210073   bird           17         28            12        5616   \n",
       "4   1000240708   owie           22         39            18        8424   \n",
       "\n",
       "   face_nan_count  pose_count  ...  left_hand_nan_count  right_hand_count  \\\n",
       "0               0         759  ...                  483               483   \n",
       "1               0         363  ...                  231               231   \n",
       "2               0        3465  ...                 1617              2205   \n",
       "3               0         396  ...                  252               252   \n",
       "4               0         594  ...                  378               378   \n",
       "\n",
       "   right_hand_nan_count     x_min     x_max     y_min     y_max     z_min  \\\n",
       "0                   252 -0.031811  1.294350 -2.147826 -0.224151 -2.782624   \n",
       "1                   189 -0.017062  1.015931 -2.222732 -0.329273 -2.543970   \n",
       "2                  2205 -0.042923  1.197836 -2.591290 -0.248094 -2.838325   \n",
       "3                     0 -0.129268  1.156573 -2.294936 -0.310272 -3.018237   \n",
       "4                     0  0.072425  1.165405 -2.264609 -0.405282 -2.970331   \n",
       "\n",
       "      z_max  label  \n",
       "0  1.910815     25  \n",
       "1  1.627621    232  \n",
       "2  1.587503     48  \n",
       "3  2.196296     23  \n",
       "4  1.360011    164  \n",
       "\n",
       "[5 rows x 22 columns]"
      ]
     },
     "execution_count": 7,
     "metadata": {},
     "output_type": "execute_result"
    }
   ],
   "source": [
    "train_df.head()"
   ]
  },
  {
   "cell_type": "markdown",
   "id": "be58513c",
   "metadata": {
    "papermill": {
     "duration": 0.006322,
     "end_time": "2023-04-30T03:41:36.648268",
     "exception": false,
     "start_time": "2023-04-30T03:41:36.641946",
     "status": "completed"
    },
    "tags": []
   },
   "source": [
    "## Feature Pre-processing"
   ]
  },
  {
   "cell_type": "code",
   "execution_count": 8,
   "id": "6bc938cd",
   "metadata": {
    "execution": {
     "iopub.execute_input": "2023-04-30T03:41:36.662281Z",
     "iopub.status.busy": "2023-04-30T03:41:36.661998Z",
     "iopub.status.idle": "2023-04-30T03:41:36.673637Z",
     "shell.execute_reply": "2023-04-30T03:41:36.672648Z"
    },
    "papermill": {
     "duration": 0.021371,
     "end_time": "2023-04-30T03:41:36.676062",
     "exception": false,
     "start_time": "2023-04-30T03:41:36.654691",
     "status": "completed"
    },
    "tags": []
   },
   "outputs": [],
   "source": [
    "class FeaturePreprocess(layers.Layer):\n",
    "    def __init__(self):\n",
    "        super(FeaturePreprocess, self).__init__()\n",
    "        \n",
    "        self.AVERAGE_FRAME = 37\n",
    "        \n",
    "        self.CONTOURS = [0, 9, 11, 13, 14, 17, 117, 118, 119, 199, 346, 347, 348]\n",
    "\n",
    "        self.LANDMARKS_IDX = {\"face\" : self.CONTOURS,\n",
    "                              \"left_hand\" : list(range(468, 489)),\n",
    "                              \"upper_body\" : list(range(489, 511)),\n",
    "                              \"right_hand\" : list(range(522, 543))}\n",
    "\n",
    "    def call(self, x):\n",
    "        n_frames = x.shape[0]\n",
    "\n",
    "        # Normalization to a common mean\n",
    "        x = x - tf.math.reduce_mean(tf.boolean_mask(x, ~tf.math.is_nan(x), axis=0), axis=0, keepdims=True)\n",
    "        x = x / tf.math.reduce_std(tf.boolean_mask(x, ~tf.math.is_nan(x), axis=0), axis=0, keepdims=True)\n",
    "\n",
    "        # Landmarks reduction\n",
    "        contours = tf.gather(x, self.LANDMARKS_IDX['face'], axis=1)\n",
    "        left_hand = tf.gather(x, self.LANDMARKS_IDX['left_hand'], axis=1)\n",
    "        pose = tf.gather(x, self.LANDMARKS_IDX['upper_body'], axis=1)\n",
    "        right_hand = tf.gather(x, self.LANDMARKS_IDX['right_hand'], axis=1)\n",
    "       \n",
    "        x = tf.concat([contours, left_hand, pose, right_hand], axis=1)  # (n_frames, 192, 3)\n",
    "\n",
    "        # Replace nan with 0\n",
    "        x = tf.where(tf.math.is_nan(x), tf.zeros_like(x), x)\n",
    "        x = x[tf.newaxis, ...]\n",
    "\n",
    "        x = tf.image.resize(x, size=(self.AVERAGE_FRAME, x.shape[2]), method=\"bilinear\")\n",
    "\n",
    "        return tf.squeeze(x, axis=0)"
   ]
  },
  {
   "cell_type": "code",
   "execution_count": 9,
   "id": "1335af08",
   "metadata": {
    "execution": {
     "iopub.execute_input": "2023-04-30T03:41:36.690144Z",
     "iopub.status.busy": "2023-04-30T03:41:36.689871Z",
     "iopub.status.idle": "2023-04-30T03:41:36.712168Z",
     "shell.execute_reply": "2023-04-30T03:41:36.711234Z"
    },
    "papermill": {
     "duration": 0.031646,
     "end_time": "2023-04-30T03:41:36.714183",
     "exception": false,
     "start_time": "2023-04-30T03:41:36.682537",
     "status": "completed"
    },
    "tags": []
   },
   "outputs": [],
   "source": [
    "feature_preprocess = FeaturePreprocess()\n",
    "\n",
    "def convert_row(row):\n",
    "    x = tf.convert_to_tensor(load_landmarks(row.path))\n",
    "    x = feature_preprocess(x).numpy()\n",
    "\n",
    "    return x, row.label\n",
    "\n",
    "def convert_and_save_data(df, data_path, label_path, save_data=False):\n",
    "    total = df.shape[0]\n",
    "    npdata = np.zeros((total, 37, 77, 3))\n",
    "    nplabels = np.zeros(total)\n",
    "    \n",
    "    for i, row in tqdm(df.iterrows(), total=total):\n",
    "        x, y = convert_row(row)\n",
    "        npdata[i,:,:,:] = x\n",
    "        nplabels[i] = y\n",
    "    \n",
    "    if save_data:\n",
    "        np.save(data_path, npdata)\n",
    "        np.save(label_path, nplabels)\n",
    "    \n",
    "    return npdata, nplabels\n"
   ]
  },
  {
   "cell_type": "code",
   "execution_count": 10,
   "id": "160ef630",
   "metadata": {
    "execution": {
     "iopub.execute_input": "2023-04-30T03:41:36.728448Z",
     "iopub.status.busy": "2023-04-30T03:41:36.728171Z",
     "iopub.status.idle": "2023-04-30T03:41:36.732485Z",
     "shell.execute_reply": "2023-04-30T03:41:36.731502Z"
    },
    "papermill": {
     "duration": 0.01368,
     "end_time": "2023-04-30T03:41:36.734659",
     "exception": false,
     "start_time": "2023-04-30T03:41:36.720979",
     "status": "completed"
    },
    "tags": []
   },
   "outputs": [],
   "source": [
    "features_path = \"/kaggle/input/asl-pretrained/processed_features.npy\"\n",
    "labels_path = \"/kaggle/input/asl-pretrained/processed_labels.npy\""
   ]
  },
  {
   "cell_type": "code",
   "execution_count": 11,
   "id": "bcccf254",
   "metadata": {
    "execution": {
     "iopub.execute_input": "2023-04-30T03:41:36.749618Z",
     "iopub.status.busy": "2023-04-30T03:41:36.748691Z",
     "iopub.status.idle": "2023-04-30T03:41:36.753340Z",
     "shell.execute_reply": "2023-04-30T03:41:36.752432Z"
    },
    "papermill": {
     "duration": 0.014155,
     "end_time": "2023-04-30T03:41:36.755436",
     "exception": false,
     "start_time": "2023-04-30T03:41:36.741281",
     "status": "completed"
    },
    "tags": []
   },
   "outputs": [],
   "source": [
    "# features, labels = convert_and_save_data(train_df, features_path, labels_path)"
   ]
  },
  {
   "cell_type": "code",
   "execution_count": 12,
   "id": "56fc61a4",
   "metadata": {
    "execution": {
     "iopub.execute_input": "2023-04-30T03:41:36.770977Z",
     "iopub.status.busy": "2023-04-30T03:41:36.770115Z",
     "iopub.status.idle": "2023-04-30T03:42:27.855666Z",
     "shell.execute_reply": "2023-04-30T03:42:27.853627Z"
    },
    "papermill": {
     "duration": 51.096219,
     "end_time": "2023-04-30T03:42:27.858738",
     "exception": false,
     "start_time": "2023-04-30T03:41:36.762519",
     "status": "completed"
    },
    "tags": []
   },
   "outputs": [],
   "source": [
    "features = np.load(features_path)\n",
    "labels = np.load(labels_path)"
   ]
  },
  {
   "cell_type": "code",
   "execution_count": 13,
   "id": "a3bbf45d",
   "metadata": {
    "execution": {
     "iopub.execute_input": "2023-04-30T03:42:27.877447Z",
     "iopub.status.busy": "2023-04-30T03:42:27.877120Z",
     "iopub.status.idle": "2023-04-30T03:42:27.882128Z",
     "shell.execute_reply": "2023-04-30T03:42:27.880948Z"
    },
    "papermill": {
     "duration": 0.014641,
     "end_time": "2023-04-30T03:42:27.884398",
     "exception": false,
     "start_time": "2023-04-30T03:42:27.869757",
     "status": "completed"
    },
    "tags": []
   },
   "outputs": [],
   "source": [
    "features = features[:80000]\n",
    "labels = labels[:80000]"
   ]
  },
  {
   "cell_type": "code",
   "execution_count": 14,
   "id": "1f4c7722",
   "metadata": {
    "execution": {
     "iopub.execute_input": "2023-04-30T03:42:27.898810Z",
     "iopub.status.busy": "2023-04-30T03:42:27.897775Z",
     "iopub.status.idle": "2023-04-30T03:42:33.487045Z",
     "shell.execute_reply": "2023-04-30T03:42:33.485906Z"
    },
    "papermill": {
     "duration": 5.599824,
     "end_time": "2023-04-30T03:42:33.490338",
     "exception": false,
     "start_time": "2023-04-30T03:42:27.890514",
     "status": "completed"
    },
    "tags": []
   },
   "outputs": [],
   "source": [
    "test_size=0.2\n",
    "\n",
    "X_train, X_val, y_train, y_val = train_test_split(features, labels, test_size=test_size, random_state=CONFIG.SEED)\n",
    "\n",
    "del features, labels # delete, useful with full data otherwise it fail (memory issues)"
   ]
  },
  {
   "cell_type": "code",
   "execution_count": 15,
   "id": "7a2e297b",
   "metadata": {
    "execution": {
     "iopub.execute_input": "2023-04-30T03:42:33.504817Z",
     "iopub.status.busy": "2023-04-30T03:42:33.504491Z",
     "iopub.status.idle": "2023-04-30T03:42:48.900836Z",
     "shell.execute_reply": "2023-04-30T03:42:48.899727Z"
    },
    "papermill": {
     "duration": 15.406282,
     "end_time": "2023-04-30T03:42:48.903377",
     "exception": false,
     "start_time": "2023-04-30T03:42:33.497095",
     "status": "completed"
    },
    "tags": []
   },
   "outputs": [],
   "source": [
    "buffer_size = int(CONFIG.TOTAL_DATA / 1000)\n",
    "\n",
    "train_data = tf.data.Dataset.from_tensor_slices((X_train, y_train))\n",
    "train_data = train_data.shuffle(buffer_size).batch(128, drop_remainder=True).prefetch(tf.data.AUTOTUNE)\n",
    "\n",
    "val_data = tf.data.Dataset.from_tensor_slices((X_val, y_val))\n",
    "val_data = val_data.batch(128, drop_remainder=True).prefetch(tf.data.AUTOTUNE)\n",
    "\n",
    "del X_train, X_val, y_train, y_val"
   ]
  },
  {
   "cell_type": "markdown",
   "id": "8cad4e93",
   "metadata": {
    "papermill": {
     "duration": 0.006537,
     "end_time": "2023-04-30T03:42:48.917235",
     "exception": false,
     "start_time": "2023-04-30T03:42:48.910698",
     "status": "completed"
    },
    "tags": []
   },
   "source": [
    "## Model"
   ]
  },
  {
   "cell_type": "code",
   "execution_count": 16,
   "id": "40c566ed",
   "metadata": {
    "execution": {
     "iopub.execute_input": "2023-04-30T03:42:48.931305Z",
     "iopub.status.busy": "2023-04-30T03:42:48.930991Z",
     "iopub.status.idle": "2023-04-30T03:42:48.938511Z",
     "shell.execute_reply": "2023-04-30T03:42:48.937603Z"
    },
    "papermill": {
     "duration": 0.017179,
     "end_time": "2023-04-30T03:42:48.940683",
     "exception": false,
     "start_time": "2023-04-30T03:42:48.923504",
     "status": "completed"
    },
    "tags": []
   },
   "outputs": [],
   "source": [
    "class DenseBlock(layers.Layer):\n",
    "    def __init__(self, units, drop):\n",
    "        super().__init__()\n",
    "        self.dense = layers.Dense(units)\n",
    "        self.norm = layers.LayerNormalization()\n",
    "        self.relu = layers.Activation(\"relu\")\n",
    "        self.drop = layers.Dropout(drop)\n",
    "        \n",
    "    def call(self, x):\n",
    "        x = self.dense(x)\n",
    "        x = self.norm(x)\n",
    "        x = self.relu(x)\n",
    "        x = self.drop(x)\n",
    "        \n",
    "        return x"
   ]
  },
  {
   "cell_type": "code",
   "execution_count": 17,
   "id": "7f08cd71",
   "metadata": {
    "execution": {
     "iopub.execute_input": "2023-04-30T03:42:48.955223Z",
     "iopub.status.busy": "2023-04-30T03:42:48.954678Z",
     "iopub.status.idle": "2023-04-30T03:42:48.961687Z",
     "shell.execute_reply": "2023-04-30T03:42:48.960597Z"
    },
    "papermill": {
     "duration": 0.016963,
     "end_time": "2023-04-30T03:42:48.964296",
     "exception": false,
     "start_time": "2023-04-30T03:42:48.947333",
     "status": "completed"
    },
    "tags": []
   },
   "outputs": [],
   "source": [
    "class ClassifierConvLSTM1D(layers.Layer):\n",
    "    def __init__(self, lstm_units, drop):\n",
    "        super().__init__()\n",
    "        self.pool2d = layers.AveragePooling2D(pool_size=(6, 1))\n",
    "        self.conv_lstm1D = layers.ConvLSTM1D(filters=lstm_units, kernel_size=1)\n",
    "        self.dropout = layers.Dropout(drop)\n",
    "        self.flat = layers.Flatten()\n",
    "        self.outputs = layers.Dense(250, activation=\"softmax\", name=\"predictions\")\n",
    "    \n",
    "    def call(self, x):\n",
    "        x = self.pool2d(x)\n",
    "        x = self.conv_lstm1D(x)\n",
    "        x = self.dropout(x)\n",
    "        x = self.flat(x)\n",
    "        outputs = self.outputs(x)\n",
    "        \n",
    "        return outputs"
   ]
  },
  {
   "cell_type": "code",
   "execution_count": 18,
   "id": "23a69d06",
   "metadata": {
    "execution": {
     "iopub.execute_input": "2023-04-30T03:42:48.979028Z",
     "iopub.status.busy": "2023-04-30T03:42:48.978704Z",
     "iopub.status.idle": "2023-04-30T03:42:48.986600Z",
     "shell.execute_reply": "2023-04-30T03:42:48.985606Z"
    },
    "papermill": {
     "duration": 0.018413,
     "end_time": "2023-04-30T03:42:48.989121",
     "exception": false,
     "start_time": "2023-04-30T03:42:48.970708",
     "status": "completed"
    },
    "tags": []
   },
   "outputs": [],
   "source": [
    "def get_model(encoder_units=[128, 64], drop=0.1, lstm_units=250, shape=(37, 77, 3), learning_rate=0.001):\n",
    "    inputs = layers.Input(shape=shape)\n",
    "    x = inputs\n",
    "\n",
    "    for units in encoder_units:\n",
    "        x = DenseBlock(units, drop)(x)\n",
    "\n",
    "    outputs = ClassifierConvLSTM1D(lstm_units, drop)(x)\n",
    "\n",
    "    model = tf.keras.Model(inputs=inputs, outputs=outputs)\n",
    "\n",
    "    model.compile(\n",
    "        loss=\"sparse_categorical_crossentropy\",\n",
    "        optimizer=tf.keras.optimizers.Adam(learning_rate=learning_rate),\n",
    "        metrics=[\"accuracy\"],\n",
    "    )\n",
    "\n",
    "    return model"
   ]
  },
  {
   "cell_type": "code",
   "execution_count": 19,
   "id": "56b8ee0a",
   "metadata": {
    "execution": {
     "iopub.execute_input": "2023-04-30T03:42:49.004969Z",
     "iopub.status.busy": "2023-04-30T03:42:49.004608Z",
     "iopub.status.idle": "2023-04-30T03:42:49.753764Z",
     "shell.execute_reply": "2023-04-30T03:42:49.752779Z"
    },
    "papermill": {
     "duration": 0.766311,
     "end_time": "2023-04-30T03:42:49.762675",
     "exception": false,
     "start_time": "2023-04-30T03:42:48.996364",
     "status": "completed"
    },
    "tags": []
   },
   "outputs": [
    {
     "name": "stdout",
     "output_type": "stream",
     "text": [
      "Model: \"model\"\n",
      "_________________________________________________________________\n",
      " Layer (type)                Output Shape              Param #   \n",
      "=================================================================\n",
      " input_1 (InputLayer)        [(None, 37, 77, 3)]       0         \n",
      "                                                                 \n",
      " dense_block (DenseBlock)    (None, 37, 77, 128)       768       \n",
      "                                                                 \n",
      " dense_block_1 (DenseBlock)  (None, 37, 77, 64)        8384      \n",
      "                                                                 \n",
      " classifier_conv_lstm1d (Cla  (None, 250)              5127750   \n",
      " ssifierConvLSTM1D)                                              \n",
      "                                                                 \n",
      "=================================================================\n",
      "Total params: 5,136,902\n",
      "Trainable params: 5,136,902\n",
      "Non-trainable params: 0\n",
      "_________________________________________________________________\n"
     ]
    }
   ],
   "source": [
    "def get_callbacks():\n",
    "    return [\n",
    "        tf.keras.callbacks.EarlyStopping(\n",
    "            monitor=\"val_accuracy\", patience=10, restore_best_weights=True\n",
    "        ),\n",
    "        tf.keras.callbacks.ReduceLROnPlateau(\n",
    "            monitor=\"val_accuracy\", factor=0.5, patience=3\n",
    "        ),\n",
    "        tf.keras.callbacks.ModelCheckpoint(\n",
    "            \"./ASL_model\",\n",
    "            save_best_only=True,\n",
    "            restore_best_weights=True,\n",
    "            monitor=\"val_accuracy\",\n",
    "            mode=\"max\",\n",
    "            verbose=False,\n",
    "        ),\n",
    "    ]\n",
    "\n",
    "\n",
    "cb_list = get_callbacks()\n",
    "\n",
    "model = get_model()\n",
    "model.summary()"
   ]
  },
  {
   "cell_type": "code",
   "execution_count": 20,
   "id": "05690d3a",
   "metadata": {
    "execution": {
     "iopub.execute_input": "2023-04-30T03:42:49.778915Z",
     "iopub.status.busy": "2023-04-30T03:42:49.778614Z",
     "iopub.status.idle": "2023-04-30T05:04:56.002366Z",
     "shell.execute_reply": "2023-04-30T05:04:56.001215Z"
    },
    "papermill": {
     "duration": 4927.524856,
     "end_time": "2023-04-30T05:04:57.294958",
     "exception": false,
     "start_time": "2023-04-30T03:42:49.770102",
     "status": "completed"
    },
    "tags": []
   },
   "outputs": [
    {
     "name": "stdout",
     "output_type": "stream",
     "text": [
      "Epoch 1/50\n"
     ]
    },
    {
     "name": "stderr",
     "output_type": "stream",
     "text": [
      "2023-04-30 03:42:55.943673: E tensorflow/core/grappler/optimizers/meta_optimizer.cc:954] layout failed: INVALID_ARGUMENT: Size of values 0 does not match size of permutation 4 @ fanin shape ingradient_tape/model/dense_block_1/dropout_1/dropout/SelectV2-2-TransposeNHWCToNCHW-LayoutOptimizer\n"
     ]
    },
    {
     "name": "stdout",
     "output_type": "stream",
     "text": [
      "500/500 [==============================] - 118s 211ms/step - loss: 4.1556 - accuracy: 0.1504 - val_loss: 3.2363 - val_accuracy: 0.2839 - lr: 0.0010\n",
      "Epoch 2/50\n",
      "500/500 [==============================] - 102s 205ms/step - loss: 2.7842 - accuracy: 0.3654 - val_loss: 2.5971 - val_accuracy: 0.4099 - lr: 0.0010\n",
      "Epoch 3/50\n",
      "500/500 [==============================] - 103s 205ms/step - loss: 2.1862 - accuracy: 0.4852 - val_loss: 2.3812 - val_accuracy: 0.4640 - lr: 0.0010\n",
      "Epoch 4/50\n",
      "500/500 [==============================] - 102s 204ms/step - loss: 1.7988 - accuracy: 0.5663 - val_loss: 2.3033 - val_accuracy: 0.4912 - lr: 0.0010\n",
      "Epoch 5/50\n",
      "500/500 [==============================] - 102s 205ms/step - loss: 1.4832 - accuracy: 0.6334 - val_loss: 2.3439 - val_accuracy: 0.4942 - lr: 0.0010\n",
      "Epoch 6/50\n",
      "500/500 [==============================] - 98s 195ms/step - loss: 1.2275 - accuracy: 0.6883 - val_loss: 2.4824 - val_accuracy: 0.4841 - lr: 0.0010\n",
      "Epoch 7/50\n",
      "500/500 [==============================] - 97s 195ms/step - loss: 1.0282 - accuracy: 0.7289 - val_loss: 2.5632 - val_accuracy: 0.4927 - lr: 0.0010\n",
      "Epoch 8/50\n",
      "500/500 [==============================] - 97s 195ms/step - loss: 0.8275 - accuracy: 0.7766 - val_loss: 2.7133 - val_accuracy: 0.4908 - lr: 0.0010\n",
      "Epoch 9/50\n",
      "500/500 [==============================] - 102s 204ms/step - loss: 0.5482 - accuracy: 0.8500 - val_loss: 2.5113 - val_accuracy: 0.5304 - lr: 5.0000e-04\n",
      "Epoch 10/50\n",
      "500/500 [==============================] - 102s 204ms/step - loss: 0.3849 - accuracy: 0.8987 - val_loss: 2.5749 - val_accuracy: 0.5324 - lr: 5.0000e-04\n",
      "Epoch 11/50\n",
      "500/500 [==============================] - 98s 195ms/step - loss: 0.2916 - accuracy: 0.9262 - val_loss: 2.6704 - val_accuracy: 0.5307 - lr: 5.0000e-04\n",
      "Epoch 12/50\n",
      "500/500 [==============================] - 97s 195ms/step - loss: 0.2262 - accuracy: 0.9445 - val_loss: 2.7717 - val_accuracy: 0.5256 - lr: 5.0000e-04\n",
      "Epoch 13/50\n",
      "500/500 [==============================] - 97s 195ms/step - loss: 0.1832 - accuracy: 0.9558 - val_loss: 2.8471 - val_accuracy: 0.5237 - lr: 5.0000e-04\n",
      "Epoch 14/50\n",
      "500/500 [==============================] - 102s 205ms/step - loss: 0.1466 - accuracy: 0.9656 - val_loss: 2.7970 - val_accuracy: 0.5338 - lr: 2.5000e-04\n",
      "Epoch 15/50\n",
      "500/500 [==============================] - 102s 204ms/step - loss: 0.1123 - accuracy: 0.9763 - val_loss: 2.8542 - val_accuracy: 0.5343 - lr: 2.5000e-04\n",
      "Epoch 16/50\n",
      "500/500 [==============================] - 102s 204ms/step - loss: 0.0920 - accuracy: 0.9831 - val_loss: 2.8813 - val_accuracy: 0.5367 - lr: 2.5000e-04\n",
      "Epoch 17/50\n",
      "500/500 [==============================] - 98s 195ms/step - loss: 0.0766 - accuracy: 0.9874 - val_loss: 2.9182 - val_accuracy: 0.5342 - lr: 2.5000e-04\n",
      "Epoch 18/50\n",
      "500/500 [==============================] - 98s 195ms/step - loss: 0.0673 - accuracy: 0.9892 - val_loss: 2.9563 - val_accuracy: 0.5351 - lr: 2.5000e-04\n",
      "Epoch 19/50\n",
      "500/500 [==============================] - 98s 195ms/step - loss: 0.0584 - accuracy: 0.9911 - val_loss: 3.0086 - val_accuracy: 0.5334 - lr: 2.5000e-04\n",
      "Epoch 20/50\n",
      "500/500 [==============================] - 102s 203ms/step - loss: 0.0540 - accuracy: 0.9920 - val_loss: 2.9523 - val_accuracy: 0.5431 - lr: 1.2500e-04\n",
      "Epoch 21/50\n",
      "500/500 [==============================] - 102s 205ms/step - loss: 0.0448 - accuracy: 0.9944 - val_loss: 2.9796 - val_accuracy: 0.5447 - lr: 1.2500e-04\n",
      "Epoch 22/50\n",
      "500/500 [==============================] - 98s 195ms/step - loss: 0.0400 - accuracy: 0.9959 - val_loss: 2.9753 - val_accuracy: 0.5446 - lr: 1.2500e-04\n",
      "Epoch 23/50\n",
      "500/500 [==============================] - 97s 195ms/step - loss: 0.0366 - accuracy: 0.9962 - val_loss: 3.0051 - val_accuracy: 0.5447 - lr: 1.2500e-04\n",
      "Epoch 24/50\n",
      "500/500 [==============================] - 98s 196ms/step - loss: 0.0337 - accuracy: 0.9966 - val_loss: 3.0121 - val_accuracy: 0.5441 - lr: 1.2500e-04\n",
      "Epoch 25/50\n",
      "500/500 [==============================] - 102s 204ms/step - loss: 0.0334 - accuracy: 0.9966 - val_loss: 2.9751 - val_accuracy: 0.5486 - lr: 6.2500e-05\n",
      "Epoch 26/50\n",
      "500/500 [==============================] - 102s 204ms/step - loss: 0.0292 - accuracy: 0.9977 - val_loss: 2.9816 - val_accuracy: 0.5499 - lr: 6.2500e-05\n",
      "Epoch 27/50\n",
      "500/500 [==============================] - 102s 204ms/step - loss: 0.0278 - accuracy: 0.9975 - val_loss: 2.9901 - val_accuracy: 0.5534 - lr: 6.2500e-05\n",
      "Epoch 28/50\n",
      "500/500 [==============================] - 98s 195ms/step - loss: 0.0263 - accuracy: 0.9980 - val_loss: 2.9878 - val_accuracy: 0.5510 - lr: 6.2500e-05\n",
      "Epoch 29/50\n",
      "500/500 [==============================] - 97s 195ms/step - loss: 0.0252 - accuracy: 0.9982 - val_loss: 3.0043 - val_accuracy: 0.5502 - lr: 6.2500e-05\n",
      "Epoch 30/50\n",
      "500/500 [==============================] - 98s 195ms/step - loss: 0.0237 - accuracy: 0.9984 - val_loss: 3.0087 - val_accuracy: 0.5514 - lr: 6.2500e-05\n",
      "Epoch 31/50\n",
      "500/500 [==============================] - 97s 195ms/step - loss: 0.0238 - accuracy: 0.9984 - val_loss: 2.9869 - val_accuracy: 0.5533 - lr: 3.1250e-05\n",
      "Epoch 32/50\n",
      "500/500 [==============================] - 97s 194ms/step - loss: 0.0230 - accuracy: 0.9982 - val_loss: 2.9892 - val_accuracy: 0.5521 - lr: 3.1250e-05\n",
      "Epoch 33/50\n",
      "500/500 [==============================] - 107s 214ms/step - loss: 0.0223 - accuracy: 0.9985 - val_loss: 2.9902 - val_accuracy: 0.5521 - lr: 3.1250e-05\n",
      "Epoch 34/50\n",
      "500/500 [==============================] - 103s 205ms/step - loss: 0.0229 - accuracy: 0.9985 - val_loss: 2.9815 - val_accuracy: 0.5558 - lr: 1.5625e-05\n",
      "Epoch 35/50\n",
      "500/500 [==============================] - 98s 195ms/step - loss: 0.0218 - accuracy: 0.9986 - val_loss: 2.9794 - val_accuracy: 0.5535 - lr: 1.5625e-05\n",
      "Epoch 36/50\n",
      "500/500 [==============================] - 97s 195ms/step - loss: 0.0207 - accuracy: 0.9987 - val_loss: 2.9838 - val_accuracy: 0.5533 - lr: 1.5625e-05\n",
      "Epoch 37/50\n",
      "500/500 [==============================] - 97s 195ms/step - loss: 0.0197 - accuracy: 0.9989 - val_loss: 2.9837 - val_accuracy: 0.5543 - lr: 1.5625e-05\n",
      "Epoch 38/50\n",
      "500/500 [==============================] - 98s 195ms/step - loss: 0.0200 - accuracy: 0.9991 - val_loss: 2.9831 - val_accuracy: 0.5524 - lr: 7.8125e-06\n",
      "Epoch 39/50\n",
      "500/500 [==============================] - 98s 195ms/step - loss: 0.0194 - accuracy: 0.9990 - val_loss: 2.9839 - val_accuracy: 0.5520 - lr: 7.8125e-06\n",
      "Epoch 40/50\n",
      "500/500 [==============================] - 98s 195ms/step - loss: 0.0189 - accuracy: 0.9991 - val_loss: 2.9844 - val_accuracy: 0.5533 - lr: 7.8125e-06\n",
      "Epoch 41/50\n",
      "500/500 [==============================] - 97s 195ms/step - loss: 0.0184 - accuracy: 0.9991 - val_loss: 2.9858 - val_accuracy: 0.5536 - lr: 3.9063e-06\n",
      "Epoch 42/50\n",
      "500/500 [==============================] - 97s 195ms/step - loss: 0.0181 - accuracy: 0.9993 - val_loss: 2.9863 - val_accuracy: 0.5534 - lr: 3.9063e-06\n",
      "Epoch 43/50\n",
      "500/500 [==============================] - 97s 195ms/step - loss: 0.0181 - accuracy: 0.9990 - val_loss: 2.9868 - val_accuracy: 0.5536 - lr: 3.9063e-06\n",
      "Epoch 44/50\n",
      "500/500 [==============================] - 97s 195ms/step - loss: 0.0183 - accuracy: 0.9991 - val_loss: 2.9871 - val_accuracy: 0.5536 - lr: 1.9531e-06\n"
     ]
    }
   ],
   "source": [
    "history = model.fit(train_data, validation_data=val_data, epochs=50, callbacks=cb_list)"
   ]
  },
  {
   "cell_type": "code",
   "execution_count": 21,
   "id": "45d946d2",
   "metadata": {
    "execution": {
     "iopub.execute_input": "2023-04-30T05:05:00.357188Z",
     "iopub.status.busy": "2023-04-30T05:05:00.356804Z",
     "iopub.status.idle": "2023-04-30T05:05:22.744066Z",
     "shell.execute_reply": "2023-04-30T05:05:22.742922Z"
    },
    "papermill": {
     "duration": 24.147801,
     "end_time": "2023-04-30T05:05:22.746753",
     "exception": false,
     "start_time": "2023-04-30T05:04:58.598952",
     "status": "completed"
    },
    "tags": []
   },
   "outputs": [
    {
     "name": "stdout",
     "output_type": "stream",
     "text": [
      "125/125 [==============================] - 11s 88ms/step - loss: 2.8906 - accuracy: 0.5558\n"
     ]
    }
   ],
   "source": [
    "model = tf.keras.models.load_model(\"./ASL_model\")\n",
    "score = model.evaluate(val_data)"
   ]
  },
  {
   "cell_type": "code",
   "execution_count": 22,
   "id": "e32e0ebe",
   "metadata": {
    "execution": {
     "iopub.execute_input": "2023-04-30T05:05:25.283351Z",
     "iopub.status.busy": "2023-04-30T05:05:25.282125Z",
     "iopub.status.idle": "2023-04-30T05:05:26.572707Z",
     "shell.execute_reply": "2023-04-30T05:05:26.571629Z"
    },
    "papermill": {
     "duration": 2.571022,
     "end_time": "2023-04-30T05:05:26.575939",
     "exception": false,
     "start_time": "2023-04-30T05:05:24.004917",
     "status": "completed"
    },
    "tags": []
   },
   "outputs": [
    {
     "data": {
      "image/png": "[encoded data removed]",
      "text/plain": [
       "<Figure size 2000x1000 with 6 Axes>"
      ]
     },
     "metadata": {},
     "output_type": "display_data"
    }
   ],
   "source": [
    "def plot_history(history, zoom=0):\n",
    "    df = pd.DataFrame(history.history)\n",
    "    n = len(df.columns)\n",
    "\n",
    "    row = n // 2\n",
    "    col = n // 2 + n % 2\n",
    "\n",
    "    plt.figure(figsize=(5 * (col + 1) + zoom, 5 * row + zoom))\n",
    "    for i, column in enumerate(df.columns):\n",
    "        plt.subplot(row, col + 1, i + 1)\n",
    "        plt.plot(df[f\"{column}\"], label=f\"{column}\")\n",
    "        plt.legend()\n",
    "        plt.xlabel(\"Epochs\")\n",
    "        plt.ylabel(f\"{column}\")\n",
    "        plt.tight_layout(pad=2)  # padding\n",
    "\n",
    "    plt.subplot(row, col + 1, n + 1)\n",
    "    for column in df.columns:\n",
    "        plt.plot(df[f\"{column}\"], label=f\"{column}\")\n",
    "        plt.legend()\n",
    "    plt.xlabel(\"Epochs\")\n",
    "\n",
    "plot_history(history)"
   ]
  },
  {
   "cell_type": "markdown",
   "id": "e95727ac",
   "metadata": {
    "papermill": {
     "duration": 1.261819,
     "end_time": "2023-04-30T05:05:29.036522",
     "exception": false,
     "start_time": "2023-04-30T05:05:27.774703",
     "status": "completed"
    },
    "tags": []
   },
   "source": [
    "## Inference Model"
   ]
  },
  {
   "cell_type": "code",
   "execution_count": 23,
   "id": "f5fc2b7d",
   "metadata": {
    "execution": {
     "iopub.execute_input": "2023-04-30T05:05:32.088769Z",
     "iopub.status.busy": "2023-04-30T05:05:32.088383Z",
     "iopub.status.idle": "2023-04-30T05:05:32.103123Z",
     "shell.execute_reply": "2023-04-30T05:05:32.102125Z"
    },
    "papermill": {
     "duration": 1.50728,
     "end_time": "2023-04-30T05:05:32.105452",
     "exception": false,
     "start_time": "2023-04-30T05:05:30.598172",
     "status": "completed"
    },
    "tags": []
   },
   "outputs": [],
   "source": [
    "class TFLiteModel(tf.keras.Model):\n",
    "    def __init__(self, model):\n",
    "        super().__init__()\n",
    "        self.prep_inputs = FeaturePreprocess()\n",
    "        self.model = model\n",
    "        \n",
    "    @tf.function(input_signature=[tf.TensorSpec(shape=[None, 543, 3], dtype=tf.float32, name='inputs')])\n",
    "    def call(self, inputs):\n",
    "        x = self.prep_inputs(tf.cast(inputs, dtype=tf.float32))\n",
    "        x = tf.expand_dims(x, axis=0)\n",
    "        outputs = self.model(x)[0, :]\n",
    "        \n",
    "        return {'outputs': outputs}\n",
    "\n",
    "tflite_keras_model = TFLiteModel(model)"
   ]
  },
  {
   "cell_type": "code",
   "execution_count": 24,
   "id": "13bda635",
   "metadata": {
    "execution": {
     "iopub.execute_input": "2023-04-30T05:05:34.625982Z",
     "iopub.status.busy": "2023-04-30T05:05:34.624653Z",
     "iopub.status.idle": "2023-04-30T05:05:41.530372Z",
     "shell.execute_reply": "2023-04-30T05:05:41.529232Z"
    },
    "papermill": {
     "duration": 8.178398,
     "end_time": "2023-04-30T05:05:41.533269",
     "exception": false,
     "start_time": "2023-04-30T05:05:33.354871",
     "status": "completed"
    },
    "tags": []
   },
   "outputs": [],
   "source": [
    "converter = tf.lite.TFLiteConverter.from_keras_model(tflite_keras_model)\n",
    "\n",
    "converter.optimizations = [tf.lite.Optimize.DEFAULT]\n",
    "converter.target_spec.supported_ops = [tf.lite.OpsSet.TFLITE_BUILTINS, tf.lite.OpsSet.SELECT_TF_OPS]\n",
    "converter.inference_input_type = tf.float32\n",
    "converter.inference_output_type = tf.float32\n",
    "converter.experimental_new_converter = True\n",
    "converter.input_shape = (None, 543, 3)  # set the input shape explicitly\n",
    "tflite_model = converter.convert()"
   ]
  },
  {
   "cell_type": "code",
   "execution_count": 25,
   "id": "795a6bb6",
   "metadata": {
    "execution": {
     "iopub.execute_input": "2023-04-30T05:05:43.987109Z",
     "iopub.status.busy": "2023-04-30T05:05:43.985997Z",
     "iopub.status.idle": "2023-04-30T05:05:43.996123Z",
     "shell.execute_reply": "2023-04-30T05:05:43.995148Z"
    },
    "papermill": {
     "duration": 1.201559,
     "end_time": "2023-04-30T05:05:43.998281",
     "exception": false,
     "start_time": "2023-04-30T05:05:42.796722",
     "status": "completed"
    },
    "tags": []
   },
   "outputs": [],
   "source": [
    "# Save model\n",
    "model_path = \"model.tflite\"\n",
    "with open(model_path, \"wb\") as f:\n",
    "    f.write(tflite_model)"
   ]
  },
  {
   "cell_type": "code",
   "execution_count": 26,
   "id": "91b3df5a",
   "metadata": {
    "execution": {
     "iopub.execute_input": "2023-04-30T05:05:46.496625Z",
     "iopub.status.busy": "2023-04-30T05:05:46.495885Z",
     "iopub.status.idle": "2023-04-30T05:05:47.938104Z",
     "shell.execute_reply": "2023-04-30T05:05:47.936918Z"
    },
    "papermill": {
     "duration": 2.695701,
     "end_time": "2023-04-30T05:05:47.940726",
     "exception": false,
     "start_time": "2023-04-30T05:05:45.245025",
     "status": "completed"
    },
    "tags": []
   },
   "outputs": [
    {
     "name": "stdout",
     "output_type": "stream",
     "text": [
      "  adding: model.tflite (deflated 26%)\r\n"
     ]
    }
   ],
   "source": [
    "!zip submission.zip $model_path"
   ]
  },
  {
   "cell_type": "code",
   "execution_count": 27,
   "id": "648f24e1",
   "metadata": {
    "execution": {
     "iopub.execute_input": "2023-04-30T05:05:50.400199Z",
     "iopub.status.busy": "2023-04-30T05:05:50.399789Z",
     "iopub.status.idle": "2023-04-30T05:13:15.032990Z",
     "shell.execute_reply": "2023-04-30T05:13:15.031667Z"
    },
    "papermill": {
     "duration": 445.825976,
     "end_time": "2023-04-30T05:13:15.035810",
     "exception": false,
     "start_time": "2023-04-30T05:05:49.209834",
     "status": "completed"
    },
    "tags": []
   },
   "outputs": [
    {
     "name": "stderr",
     "output_type": "stream",
     "text": [
      "INFO: Created TensorFlow Lite delegate for select TF ops.\n",
      "INFO: TfLiteFlexDelegate delegate: 2 nodes delegated out of 82 nodes with 2 partitions.\n",
      "\n",
      "100%|██████████| 9447/9447 [07:24<00:00, 21.25it/s]"
     ]
    },
    {
     "name": "stdout",
     "output_type": "stream",
     "text": [
      "0.9118238594262729\n"
     ]
    },
    {
     "name": "stderr",
     "output_type": "stream",
     "text": [
      "\n"
     ]
    }
   ],
   "source": [
    "interpreter = tf.lite.Interpreter(\"/kaggle/working/model.tflite\")\n",
    "\n",
    "found_signatures = list(interpreter.get_signature_list().keys())\n",
    "prediction_fn = interpreter.get_signature_runner(\"serving_default\")\n",
    "\n",
    "p2s_map = {v:k for k,v in label_map.items()}\n",
    "decoder = lambda x: p2s_map.get(x)\n",
    "\n",
    "score = 0 \n",
    "for i in tqdm(range(int(len(train_df)/10))): \n",
    "    frames = load_landmarks(os.path.join(CONFIG.ROOT_DIR, train_df.iloc[i].path))\n",
    "    output = prediction_fn(inputs=frames)\n",
    "    sign = np.argmax(output[\"outputs\"])\n",
    "    if decoder(train_df.iloc[i].label) == decoder(sign): \n",
    "        score += 1 \n",
    "print(score/int(len(train_df)/10))"
   ]
  }
 ],
 "metadata": {
  "kernelspec": {
   "display_name": "Python 3",
   "language": "python",
   "name": "python3"
  },
  "language_info": {
   "codemirror_mode": {
    "name": "ipython",
    "version": 3
   },
   "file_extension": ".py",
   "mimetype": "text/x-python",
   "name": "python",
   "nbconvert_exporter": "python",
   "pygments_lexer": "ipython3",
   "version": "3.7.12"
  },
  "papermill": {
   "default_parameters": {},
   "duration": 5532.791797,
   "end_time": "2023-04-30T05:13:19.667755",
   "environment_variables": {},
   "exception": null,
   "input_path": "__notebook__.ipynb",
   "output_path": "__notebook__.ipynb",
   "parameters": {},
   "start_time": "2023-04-30T03:41:06.875958",
   "version": "2.4.0"
  }
 },
 "nbformat": 4,
 "nbformat_minor": 5
}
